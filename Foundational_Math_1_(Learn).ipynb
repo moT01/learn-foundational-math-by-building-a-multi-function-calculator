{
  "nbformat": 4,
  "nbformat_minor": 0,
  "metadata": {
    "colab": {
      "name": "Foundational Math 1 (Learn).ipynb",
      "provenance": [],
      "collapsed_sections": [
        "EjxsoAEij2z5",
        "yAR4qoEcj7tv",
        "9n3Rf_u4kVRc",
        "33FosVOV1NBu",
        "rujSYyXZ3AOY",
        "6PeVH4Gx3PE3",
        "D5Z8_9gN39TD",
        "rPT2OymY4HdE",
        "yED2Dox44JYj",
        "uQdfUUlw4Kfg",
        "XEf8vCUH4Lc_",
        "EyV2Udzs4MVS",
        "76XeyVVM4NrX",
        "B4WZJ0Iv4O1d",
        "1hru9M7J4P48",
        "cG_JMTeb4Q-E",
        "a6Kr7wKq4SBP",
        "IIb5MHzI4TAU",
        "4VnLdwgZ4WHz",
        "98oHO4mh4X3e"
      ]
    },
    "kernelspec": {
      "name": "python3",
      "display_name": "Python 3"
    },
    "language_info": {
      "name": "python"
    }
  },
  "cells": [
    {
      "cell_type": "markdown",
      "metadata": {
        "id": "OikF86Tfxsrq"
      },
      "source": [
        "**Foundational Math - Certification 1**<br>\n",
        "Each of these steps will lead you toward the Certification Project. Once you complete a step, click to expand the next step."
      ]
    },
    {
      "cell_type": "markdown",
      "metadata": {
        "id": "EjxsoAEij2z5"
      },
      "source": [
        "# 1 - Add"
      ]
    },
    {
      "cell_type": "markdown",
      "metadata": {
        "id": "tYdScbUgkif-"
      },
      "source": [
        "Because later steps build upon the earlier steps, you will start with the basics. Python uses `+`, `-`, `*`, and `/` for the four math operations. When you add two numbers together, you get the `sum`. Use one of those operations within the `Print` statement to get the sum of a and b:"
      ]
    },
    {
      "cell_type": "code",
      "metadata": {
        "id": "muuUL56MknVm"
      },
      "source": [
        "a = 25\n",
        "b = 81\n",
        "\n",
        "# change the next line\n",
        "print(a)\n"
      ],
      "execution_count": null,
      "outputs": []
    },
    {
      "cell_type": "markdown",
      "metadata": {
        "id": "yAR4qoEcj7tv"
      },
      "source": [
        "# 2 - Subtract"
      ]
    },
    {
      "cell_type": "markdown",
      "metadata": {
        "id": "kxpYn-rfjomx"
      },
      "source": [
        "Subtracting numbers is also known as the `difference`. Print the difference between c and d:\n"
      ]
    },
    {
      "cell_type": "code",
      "metadata": {
        "id": "cLscGSGcjtPM"
      },
      "source": [
        "c = 17\n",
        "d = 3\n",
        "\n",
        "# change the next line\n",
        "print(c)\n",
        "\n"
      ],
      "execution_count": null,
      "outputs": []
    },
    {
      "cell_type": "markdown",
      "metadata": {
        "id": "9n3Rf_u4kVRc"
      },
      "source": [
        "# 3 - Multiply"
      ]
    },
    {
      "cell_type": "markdown",
      "metadata": {
        "id": "upss2rbrkNE3"
      },
      "source": [
        "When using multiplication, the result is the `product`. Print the product of e and f:\n"
      ]
    },
    {
      "cell_type": "code",
      "metadata": {
        "id": "riH3m4YekQNk"
      },
      "source": [
        "e = 15\n",
        "f =16\n",
        "\n",
        "# change the next line\n",
        "print(e)\n"
      ],
      "execution_count": null,
      "outputs": []
    },
    {
      "cell_type": "markdown",
      "metadata": {
        "id": "33FosVOV1NBu"
      },
      "source": [
        "# 4 - Divide\n"
      ]
    },
    {
      "cell_type": "markdown",
      "metadata": {
        "id": "odHJk50S1V05"
      },
      "source": [
        "The result of diving one number by another is called the `quotient`. Print the quotient of g and h:"
      ]
    },
    {
      "cell_type": "code",
      "metadata": {
        "id": "5YWS8tuA1UMc"
      },
      "source": [
        "g = 24\n",
        "h = 4\n",
        "\n",
        "# change the next line\n",
        "print(g)\n"
      ],
      "execution_count": null,
      "outputs": []
    },
    {
      "cell_type": "markdown",
      "metadata": {
        "id": "rujSYyXZ3AOY"
      },
      "source": [
        "# 5 - Cast Input"
      ]
    },
    {
      "cell_type": "markdown",
      "metadata": {
        "id": "ttrSrlGh3CK8"
      },
      "source": [
        "User input comes in as a string. You need to cast it as an integer or a float before doing any math. The code below asks for two integers as input and casts them as integers. Complete the code so all the output equations are true."
      ]
    },
    {
      "cell_type": "code",
      "metadata": {
        "id": "fWYQrvOP3Cif"
      },
      "source": [
        "strA = input('Enter a positive integer: ')\n",
        "strB = input('Enter another integer: ')\n",
        "intA = int(strA)\n",
        "intB = int(strB)\n",
        "\n",
        "# complete the following lines\n",
        "print(intA,' + ',intB,' = ')\n",
        "print(intA,' - ',intB,' = ')\n",
        "print(intA,' * ',intB,' = ')\n",
        "print(intA,' / ',intB,' = ')\n"
      ],
      "execution_count": null,
      "outputs": []
    },
    {
      "cell_type": "markdown",
      "metadata": {
        "id": "6PeVH4Gx3PE3"
      },
      "source": [
        "# 6 - Order of Operations"
      ]
    },
    {
      "cell_type": "markdown",
      "metadata": {
        "id": "tComwmxt3UuP"
      },
      "source": [
        "You may have heard of the `order of operations` and the acronym `PEMDAS`, which reminds you of the correct order. This means that you do what is in `P`arentheses first, then simplify `E`xponents. You then do all of the `M`ultiplication and `D`ivision together, as long as you work from left to right and simplify them in order. The same is true of `A`ddition and `S`ubtraction: work from left to right and simplify the one the comes up next. Python knows the order of operations. In the following code, predict the answer, then run it to check:"
      ]
    },
    {
      "cell_type": "code",
      "metadata": {
        "id": "d-3CdCL53VHA"
      },
      "source": [
        "actual = (3+4*5-14/2)**2\n",
        "\n",
        "# Put your answer on the following line:\n",
        "your_answer = 0\n",
        "\n",
        "print('Actual answer is ', actual)\n",
        "print('Your answer is ', your_answer)\n"
      ],
      "execution_count": null,
      "outputs": []
    },
    {
      "cell_type": "markdown",
      "metadata": {
        "id": "D5Z8_9gN39TD"
      },
      "source": [
        "# 7 - Remainder and Modulus"
      ]
    },
    {
      "cell_type": "markdown",
      "metadata": {
        "id": "IBEwjqML39TH"
      },
      "source": [
        "A remainder is what is left over when you try to divide two numbers and it doesn’t divide evenly. The remainder of 10 / 4 is 2 because 4 goes into 10 two whole times, with 2 left over. The modulus (%) operator will output the remainder, so 10%4 will return 2. Use the modulus operator to find the remainder of a divided by b:"
      ]
    },
    {
      "cell_type": "code",
      "metadata": {
        "id": "EonWJtHS39TI"
      },
      "source": [
        "a = 15\n",
        "b = 7\n",
        "\n",
        "# change this line\n",
        "print(a)\n"
      ],
      "execution_count": null,
      "outputs": []
    },
    {
      "cell_type": "markdown",
      "metadata": {
        "id": "rPT2OymY4HdE"
      },
      "source": [
        "# 8 - Testing Factors"
      ]
    },
    {
      "cell_type": "markdown",
      "metadata": {
        "id": "Ct7JeTNm4HdF"
      },
      "source": [
        "Using the modulus operator, you can find out if a number is a factor of another. To see if `5` is a factor of `20`, you can check if `20 % 5 = 0`. If there's no remainder, the second number is a factor of the first. Remember that Python comparisons use == to test values. Finish the code below so that it prints `true` if `maybeFactor` is a factor of `wholeNumber`, and `false` if it is not:"
      ]
    },
    {
      "cell_type": "code",
      "metadata": {
        "id": "fRe04K3a4HdF"
      },
      "source": [
        "a = input('Enter an integer: ')\n",
        "b = input('Enter an integer to see if it’s a factor: ')\n",
        "whole_number = int(a)\n",
        "maybe_factor = int(b)\n",
        "\n",
        "# Change this line to test the factor in the print statement:\n",
        "if whole_number:\n",
        "    print('true')\n",
        "else:\n",
        "    print('false')\n",
        "\n"
      ],
      "execution_count": null,
      "outputs": []
    },
    {
      "cell_type": "markdown",
      "metadata": {
        "id": "yED2Dox44JYj"
      },
      "source": [
        "# 9 - Finding Factors"
      ]
    },
    {
      "cell_type": "markdown",
      "metadata": {
        "id": "oMQEeGVI4JYk"
      },
      "source": [
        "Now you will find all of the factors of a number. The code below has a loop with a variable, i, that counts up to the given number. Remember that `if` statements, like loops, end in a colon (:) and require a four-space indent for the \"then\" part. Finish the code so that it prints all the factors of `number`."
      ]
    },
    {
      "cell_type": "code",
      "metadata": {
        "id": "YQqur5gF4JYk"
      },
      "source": [
        "number=int(input('Enter an integer: '))\n",
        "\n",
        "for i in range(1, number+1):\n",
        "    print(\" \") # delete this line\n",
        "    # put your if statement here\n",
        "        # put your print statement here\n",
        "        \n",
        "\n"
      ],
      "execution_count": null,
      "outputs": []
    },
    {
      "cell_type": "markdown",
      "metadata": {
        "id": "uQdfUUlw4Kfg"
      },
      "source": [
        "# 10 - Prime Numbers"
      ]
    },
    {
      "cell_type": "markdown",
      "metadata": {
        "id": "ngn_lXfv4Kfh"
      },
      "source": [
        "A `prime` number is a number whose only factors are `1` and itself. The number `5` is prime because its only factors are `1` and `5`, but the `6` is not prime because it has `1`, `2`, `3`, and `6` as factors. Any number that is not a prime is a `composite`. Finish the code below so that it prints \"prime\" if the input is prime, or \"composite\" if it is not."
      ]
    },
    {
      "cell_type": "code",
      "metadata": {
        "id": "9q6wtSTg4Kfh"
      },
      "source": [
        "test_number = int(input(\"Enter an integer: \"))\n",
        "\n",
        "pc = \"prime\"\n",
        "\n",
        "# change only the if statement in the loop:\n",
        "for i in range(2,test_number):\n",
        "    if (test_number):\n",
        "        pc = \"composite\"\n",
        "\n",
        "print(pc)\n"
      ],
      "execution_count": null,
      "outputs": []
    },
    {
      "cell_type": "markdown",
      "metadata": {
        "id": "XEf8vCUH4Lc_"
      },
      "source": [
        "# 11 - Reciprocals"
      ]
    },
    {
      "cell_type": "markdown",
      "metadata": {
        "id": "QrV7DGum4Lc_"
      },
      "source": [
        "A *reciprocal* is a number \"flipped.\" The reciprocal of $\\frac{2}{3}$ is $\\frac{3}{2}$ and the reciprocal of 5 is $\\frac{1}{5}$ because whole numbers have denominators of 1. You can multiply a number by its reciprocal to get 1, so 5 * $\\frac{1}{5}$ = 1 and $\\frac{2}{3}$ * $\\frac{3}{2}$ = 1. To get the reciprocal of a number, take 1 divided by that number. Finish the code below to print the reciprocal of `n` as a decimal. Notice that you will cast the input string as a `float` number because it does not have to be an integer."
      ]
    },
    {
      "cell_type": "code",
      "metadata": {
        "id": "rwExvDuM4LdA"
      },
      "source": [
        "n = float(input('Enter a number: '))\n",
        "\n",
        "# write your code here\n"
      ],
      "execution_count": null,
      "outputs": []
    },
    {
      "cell_type": "markdown",
      "metadata": {
        "id": "EyV2Udzs4MVS"
      },
      "source": [
        "# 12 - Float Numbers"
      ]
    },
    {
      "cell_type": "markdown",
      "metadata": {
        "id": "_GoKZbiS4MVS"
      },
      "source": [
        "Now you will ask for two integers, separated by a comma, then split the input at the comma. Notice the split creates an array with two elements. Finish the following code to cast the input as `float` numbers, perform the four math operations, and print the results."
      ]
    },
    {
      "cell_type": "code",
      "metadata": {
        "id": "axr86XQ04MVS"
      },
      "source": [
        "nums = input('Enter two numbers, separted by a comma: ')\n",
        "sp = nums.split(\",\")\n",
        "sta = sp[0]\n",
        "stb = sp[1]\n",
        "\n",
        "# Write your code here\n"
      ],
      "execution_count": null,
      "outputs": []
    },
    {
      "cell_type": "markdown",
      "metadata": {
        "id": "76XeyVVM4NrX"
      },
      "source": [
        "# 13 - Square Numbers"
      ]
    },
    {
      "cell_type": "markdown",
      "metadata": {
        "id": "cNCxDnCt4NrX"
      },
      "source": [
        "One factor multiplied by itsef will produce a `square` number, so a number raised to an exponent of 2 is that number `squared` (like calculating the area of a square). Python uses `**` to indicate exponents. Complete the code to print the square of the input."
      ]
    },
    {
      "cell_type": "code",
      "metadata": {
        "id": "ZyikhBYd4NrX"
      },
      "source": [
        "n=float(input('Enter a number to sqare: '))\n",
        "\n",
        "# Write your code here\n"
      ],
      "execution_count": null,
      "outputs": []
    },
    {
      "cell_type": "markdown",
      "metadata": {
        "id": "B4WZJ0Iv4O1d"
      },
      "source": [
        "# 14 - Square Root Function"
      ]
    },
    {
      "cell_type": "markdown",
      "metadata": {
        "id": "R3RBO7tF4O1d"
      },
      "source": [
        "You can find the square root (or decimal approximation) of a number with the `sqrt()` function. To use this function, you need to import math and write it as `math.sqrt(x)`. Complete the code to print the square root of a number."
      ]
    },
    {
      "cell_type": "code",
      "metadata": {
        "id": "MSkW_Md24O1d"
      },
      "source": [
        "import math\n",
        "\n",
        "x = float(input('Enter a number to find the square root: '))\n",
        "\n",
        "# Write your code here\n",
        "\n"
      ],
      "execution_count": null,
      "outputs": []
    },
    {
      "cell_type": "markdown",
      "metadata": {
        "id": "1hru9M7J4P48"
      },
      "source": [
        "# 15 - Floor Function"
      ]
    },
    {
      "cell_type": "markdown",
      "metadata": {
        "id": "VG-12xT94P48"
      },
      "source": [
        "The`floor()` function drops any decimals and sometimes is called the \"integer part\" of a number. Complete the code to print the floor of a number. Notice again you import math and use `math.floor(x)`  "
      ]
    },
    {
      "cell_type": "code",
      "metadata": {
        "id": "F-c0gsQL4P48"
      },
      "source": [
        "import math\n",
        "\n",
        "x = float(input('Enter a number with decimal places: '))\n",
        "\n",
        "# Write your code here\n",
        "\n"
      ],
      "execution_count": null,
      "outputs": []
    },
    {
      "cell_type": "markdown",
      "metadata": {
        "id": "cG_JMTeb4Q-E"
      },
      "source": [
        "# 16 - Finding Square Factors"
      ]
    },
    {
      "cell_type": "markdown",
      "metadata": {
        "id": "oN6isUiz4Q-E"
      },
      "source": [
        "Just as you created a loop to find factors of an integer, complete the loop to print the greatest square factor of an integer."
      ]
    },
    {
      "cell_type": "code",
      "metadata": {
        "id": "SRbIgfWr4Q-E"
      },
      "source": [
        "import math\n",
        "\n",
        "x = int(input('Enter an integer to find the greatest square factor: '))\n",
        "\n",
        "max_factor = 0\n",
        "upper_limit = math.floor(math.sqrt(x)) + 1\n",
        "\n",
        "for i in range(upper_limit):\n",
        "    # Write your code here\n",
        "    \n",
        "\n",
        "print(max_factor)\n",
        "\n"
      ],
      "execution_count": null,
      "outputs": []
    },
    {
      "cell_type": "markdown",
      "metadata": {
        "id": "a6Kr7wKq4SBP"
      },
      "source": [
        "# 17 - Dividing out Factors "
      ]
    },
    {
      "cell_type": "markdown",
      "metadata": {
        "id": "dlB9GF164SBP"
      },
      "source": [
        "Building upon your code from the previous step, divide out the greatest square factor of a number. Just run the code below a few times, iputting different numbers each time."
      ]
    },
    {
      "cell_type": "code",
      "metadata": {
        "id": "0KCr-ImL4SBQ"
      },
      "source": [
        "import math\n",
        "\n",
        "x = int(input('Enter an integer to factor: '))\n",
        "upper_limit = math.floor(math.sqrt(x)) + 1\n",
        "square_root = 1\n",
        "other_factor = 1\n",
        "\n",
        "# Notice what the loop is doing here\n",
        "for i in range(1,upper_limit):\n",
        "    if x%(i**2)==0:\n",
        "        square_root = i\n",
        "\n",
        "other_factor = x/(square_root**2)\n",
        "\n",
        "print(\"The number \", x, \" is \", square_root, \" squared, times \", other_factor)\n"
      ],
      "execution_count": null,
      "outputs": []
    },
    {
      "cell_type": "markdown",
      "metadata": {
        "id": "IIb5MHzI4TAU"
      },
      "source": [
        "# 18 - Factoring Square Roots"
      ]
    },
    {
      "cell_type": "markdown",
      "metadata": {
        "id": "F9mLn2vR4TAU"
      },
      "source": [
        "To factor a square root, you want to divide out any perfect square factors.<br> \n",
        "For example: $\\sqrt{12}$ = $\\sqrt{4 * 3}$ = 2$\\sqrt{3}$<br>\n",
        "Because 4 is a square, the square root of 4 is now outside the radical. You will import `sympy` and `symbols` to generate output with the radical.\n",
        "Use the code from the previous step to ask for a number and output the factored square root. The radical formatting (using sympy and symbols) is already done for you."
      ]
    },
    {
      "cell_type": "code",
      "metadata": {
        "id": "ucg7J-8m4TAU"
      },
      "source": [
        "import sympy\n",
        "from sympy import symbols\n",
        "x = int(input('Without the radical, enter a square root to factor: '))\n",
        "\n",
        "upper_limit = math.floor(math.sqrt(x)) + 1\n",
        "square_root = 1\n",
        "other_factor = 1\n",
        "\n",
        "# Write your code below this line\n",
        "\n",
        "\n",
        "\n",
        "# Write your code above this line\n",
        "\n",
        "square_root = int(square_root)\n",
        "other_factor = int(other_factor)\n",
        "output = square_root*sympy.sqrt(other_factor)\n",
        "output\n"
      ],
      "execution_count": null,
      "outputs": []
    },
    {
      "cell_type": "markdown",
      "metadata": {
        "id": "4VnLdwgZ4WHz"
      },
      "source": [
        "# 19 - Rounding"
      ]
    },
    {
      "cell_type": "markdown",
      "metadata": {
        "id": "3fxJA-yI4WH0"
      },
      "source": [
        "If you only want a certain number of decimal places, use the `round()` function.This takes two arguments: the number to round and the number of decimal places, so round(2.468, 2) will return `2.47`. To round a large number instead of a decimal number, make the second argument negative, so round(2345, -3) will return `2000`. Finish the code below so that it prints each number in scientific notation with 2 decimal places."
      ]
    },
    {
      "cell_type": "code",
      "metadata": {
        "id": "4n4mYI554WH0"
      },
      "source": [
        "a = 156234588132\n",
        "b = 0.004938298336\n",
        "\n",
        "# Write your code here\n",
        "\n"
      ],
      "execution_count": null,
      "outputs": []
    },
    {
      "cell_type": "markdown",
      "metadata": {
        "id": "98oHO4mh4X3e"
      },
      "source": [
        "# 20 - Solving for x"
      ]
    },
    {
      "cell_type": "markdown",
      "metadata": {
        "id": "jYh9MRv24X3e"
      },
      "source": [
        "In Algebra, `X` often refers to the unknown number in an equation. To find the value of `x` we use algebra rules to get to `x = ` [some number]. Sympy is a Python library to work with symbolic math. The following code works to solve an equation set equal to zero. Run the code and remember to use Python syntax to enter an equation (with \"x\" as the variable) and see the solution."
      ]
    },
    {
      "cell_type": "code",
      "metadata": {
        "id": "H4HFJdc34X3e"
      },
      "source": [
        "import sympy\n",
        "from sympy import symbols\n",
        "from sympy.solvers import solve\n",
        "\n",
        "x = symbols('x')\n",
        "\n",
        "eq = input('Enter an equation to solve for x: 0 = ')\n",
        "solve(eq,x)\n",
        "\n",
        "\n"
      ],
      "execution_count": null,
      "outputs": []
    }
  ]
}